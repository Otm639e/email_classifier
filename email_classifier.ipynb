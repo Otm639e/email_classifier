{
 "cells": [
  {
   "cell_type": "markdown",
   "id": "e973076c",
   "metadata": {},
   "source": [
    "## Spam or Ham"
   ]
  },
  {
   "cell_type": "markdown",
   "id": "c7a69a56",
   "metadata": {},
   "source": [
    "In this project we will use feature engineering and logistic regression to create a classifier that will distinguish spam emails from non-spam emails.\n",
    "\n",
    "* We will distinguish spam and non spam emails by calling the spam emails: \"spam\" and the non-spam emails: \"ham\" "
   ]
  },
  {
   "cell_type": "code",
   "execution_count": 1,
   "id": "3813a0f7",
   "metadata": {},
   "outputs": [],
   "source": [
    "import numpy as np\n",
    "import pandas as pd\n",
    "\n",
    "import matplotlib.pyplot as plt\n",
    "%matplotlib inline\n",
    "\n",
    "import seaborn as sns\n",
    "sns.set(style = \"whitegrid\", \n",
    "        color_codes = True,\n",
    "        font_scale = 1.5)"
   ]
  },
  {
   "cell_type": "markdown",
   "id": "5924e61d",
   "metadata": {},
   "source": [
    "## Loading the data"
   ]
  },
  {
   "cell_type": "code",
   "execution_count": 2,
   "id": "080c0d76",
   "metadata": {},
   "outputs": [],
   "source": [
    "import zipfile\n",
    "with zipfile.ZipFile('data/spam_ham_data.zip') as item:\n",
    "    item.extractall()"
   ]
  },
  {
   "cell_type": "code",
   "execution_count": 3,
   "id": "9f1edd58",
   "metadata": {},
   "outputs": [
    {
     "data": {
      "text/html": [
       "<div>\n",
       "<style scoped>\n",
       "    .dataframe tbody tr th:only-of-type {\n",
       "        vertical-align: middle;\n",
       "    }\n",
       "\n",
       "    .dataframe tbody tr th {\n",
       "        vertical-align: top;\n",
       "    }\n",
       "\n",
       "    .dataframe thead th {\n",
       "        text-align: right;\n",
       "    }\n",
       "</style>\n",
       "<table border=\"1\" class=\"dataframe\">\n",
       "  <thead>\n",
       "    <tr style=\"text-align: right;\">\n",
       "      <th></th>\n",
       "      <th>id</th>\n",
       "      <th>subject</th>\n",
       "      <th>email</th>\n",
       "      <th>spam</th>\n",
       "    </tr>\n",
       "  </thead>\n",
       "  <tbody>\n",
       "    <tr>\n",
       "      <th>0</th>\n",
       "      <td>0</td>\n",
       "      <td>Subject: A&amp;L Daily to be auctioned in bankrupt...</td>\n",
       "      <td>url: http://boingboing.net/#85534171\\n date: n...</td>\n",
       "      <td>0</td>\n",
       "    </tr>\n",
       "    <tr>\n",
       "      <th>1</th>\n",
       "      <td>1</td>\n",
       "      <td>Subject: Wired: \"Stronger ties between ISPs an...</td>\n",
       "      <td>url: http://scriptingnews.userland.com/backiss...</td>\n",
       "      <td>0</td>\n",
       "    </tr>\n",
       "    <tr>\n",
       "      <th>2</th>\n",
       "      <td>2</td>\n",
       "      <td>Subject: It's just too small                  ...</td>\n",
       "      <td>&lt;html&gt;\\n &lt;head&gt;\\n &lt;/head&gt;\\n &lt;body&gt;\\n &lt;font siz...</td>\n",
       "      <td>1</td>\n",
       "    </tr>\n",
       "    <tr>\n",
       "      <th>3</th>\n",
       "      <td>3</td>\n",
       "      <td>Subject: liberal defnitions\\n</td>\n",
       "      <td>depends on how much over spending vs. how much...</td>\n",
       "      <td>0</td>\n",
       "    </tr>\n",
       "    <tr>\n",
       "      <th>4</th>\n",
       "      <td>4</td>\n",
       "      <td>Subject: RE: [ILUG] Newbie seeks advice - Suse...</td>\n",
       "      <td>hehe sorry but if you hit caps lock twice the ...</td>\n",
       "      <td>0</td>\n",
       "    </tr>\n",
       "  </tbody>\n",
       "</table>\n",
       "</div>"
      ],
      "text/plain": [
       "   id                                            subject  \\\n",
       "0   0  Subject: A&L Daily to be auctioned in bankrupt...   \n",
       "1   1  Subject: Wired: \"Stronger ties between ISPs an...   \n",
       "2   2  Subject: It's just too small                  ...   \n",
       "3   3                      Subject: liberal defnitions\\n   \n",
       "4   4  Subject: RE: [ILUG] Newbie seeks advice - Suse...   \n",
       "\n",
       "                                               email  spam  \n",
       "0  url: http://boingboing.net/#85534171\\n date: n...     0  \n",
       "1  url: http://scriptingnews.userland.com/backiss...     0  \n",
       "2  <html>\\n <head>\\n </head>\\n <body>\\n <font siz...     1  \n",
       "3  depends on how much over spending vs. how much...     0  \n",
       "4  hehe sorry but if you hit caps lock twice the ...     0  "
      ]
     },
     "execution_count": 3,
     "metadata": {},
     "output_type": "execute_result"
    }
   ],
   "source": [
    "original_training_data = pd.read_csv('data/train.csv')\n",
    "\n",
    "# Convert the emails to lower case as a first step to processing the text\n",
    "original_training_data['email'] = original_training_data['email'].str.lower()\n",
    "\n",
    "original_training_data.head()"
   ]
  },
  {
   "cell_type": "markdown",
   "id": "f7124d5c",
   "metadata": {},
   "source": [
    "### Removing Nulls"
   ]
  },
  {
   "cell_type": "code",
   "execution_count": 4,
   "id": "6f39c404",
   "metadata": {},
   "outputs": [
    {
     "name": "stdout",
     "output_type": "stream",
     "text": [
      "Before imputation:\n",
      "id         0\n",
      "subject    6\n",
      "email      0\n",
      "spam       0\n",
      "dtype: int64\n",
      "------------\n",
      "After imputation:\n",
      "id         0\n",
      "subject    0\n",
      "email      0\n",
      "spam       0\n",
      "dtype: int64\n"
     ]
    }
   ],
   "source": [
    "print('Before imputation:')\n",
    "print(original_training_data.isnull().sum())\n",
    "original_training_data = original_training_data.fillna('')\n",
    "print('------------')\n",
    "print('After imputation:')\n",
    "print(original_training_data.isnull().sum())"
   ]
  },
  {
   "cell_type": "markdown",
   "id": "10436d60",
   "metadata": {},
   "source": [
    "Let's take a look at the type of data we are dealing with!"
   ]
  },
  {
   "cell_type": "code",
   "execution_count": 5,
   "id": "b5553a1b",
   "metadata": {},
   "outputs": [
    {
     "name": "stdout",
     "output_type": "stream",
     "text": [
      "url: http://boingboing.net/#85534171\n",
      " date: not supplied\n",
      " \n",
      " arts and letters daily, a wonderful and dense blog, has folded up its tent due \n",
      " to the bankruptcy of its parent company. a&l daily will be auctioned off by the \n",
      " receivers. link[1] discuss[2] (_thanks, misha!_)\n",
      " \n",
      " [1] http://www.aldaily.com/\n",
      " [2] http://www.quicktopic.com/boing/h/zlfterjnd6jf\n",
      " \n",
      " \n",
      "\n",
      "<html>\n",
      " <head>\n",
      " </head>\n",
      " <body>\n",
      " <font size=3d\"4\"><b> a man endowed with a 7-8\" hammer is simply<br>\n",
      "  better equipped than a man with a 5-6\"hammer. <br>\n",
      " <br>would you rather have<br>more than enough to get the job done or fall =\n",
      " short. it's totally up<br>to you. our methods are guaranteed to increase y=\n",
      " our size by 1-3\"<br> <a href=3d\"http://209.163.187.47/cgi-bin/index.php?10=\n",
      " 004\">come in here and see how</a>\n",
      " </body>\n",
      " </html>\n",
      " \n",
      " \n",
      " \n",
      "\n"
     ]
    }
   ],
   "source": [
    "first_ham = original_training_data.loc[original_training_data['spam'] == 0, 'email'].iloc[0]\n",
    "first_spam = original_training_data.loc[original_training_data['spam'] == 1, 'email'].iloc[0]\n",
    "print(first_ham)\n",
    "print(first_spam)"
   ]
  },
  {
   "cell_type": "markdown",
   "id": "a9de4a62",
   "metadata": {},
   "source": [
    "### Training Test Split"
   ]
  },
  {
   "cell_type": "code",
   "execution_count": 6,
   "id": "49d22c8b",
   "metadata": {},
   "outputs": [],
   "source": [
    "from sklearn.model_selection import train_test_split\n",
    "\n",
    "train, test = train_test_split(original_training_data, test_size = 0.33, random_state = 42)"
   ]
  },
  {
   "cell_type": "markdown",
   "id": "2b6e5540",
   "metadata": {},
   "source": [
    "### Helper Function For Feature Engineering"
   ]
  },
  {
   "cell_type": "code",
   "execution_count": 7,
   "id": "ff643966",
   "metadata": {},
   "outputs": [],
   "source": [
    "def words_in_texts(words, texts):\n",
    "    '''\n",
    "    Args:\n",
    "        words (list): words to find\n",
    "        texts (Series): strings to search in\n",
    "    \n",
    "    Returns:\n",
    "        array of 0s and 1s with shape (n, p) where n is the\n",
    "        number of texts and p is the number of words.\n",
    "    '''\n",
    "    indicator_array = []\n",
    "    for text in texts:\n",
    "        arr = []\n",
    "        for word in words:\n",
    "            if word in text:\n",
    "                arr.append(1)\n",
    "            else:\n",
    "                arr.append(0)\n",
    "        indicator_array.append(arr)\n",
    "    return np.array(indicator_array)\n",
    "\n"
   ]
  },
  {
   "cell_type": "markdown",
   "id": "66bf5163",
   "metadata": {},
   "source": [
    "### Creating a bar chart comparing the proportion of spam and ham emails containing certain words\n",
    "\n",
    "We need to identify features to help us distinguish between spam and ham emails. An idea can be by comparing the distribution of a single feature (words/character) in both spam and ham emails."
   ]
  },
  {
   "cell_type": "code",
   "execution_count": 24,
   "id": "940ad5b0",
   "metadata": {},
   "outputs": [
    {
     "data": {
      "image/png": "[encoded data removed]",
      "text/plain": [
       "<Figure size 720x720 with 1 Axes>"
      ]
     },
     "metadata": {},
     "output_type": "display_data"
    }
   ],
   "source": [
    "train = train.reset_index(drop=True) # We must do this in order to preserve the ordering of emails to labels for words_in_texts\n",
    "word_set = ['drug', 'bank', 'prescription', 'memo', 'private']\n",
    "my_list =  words_in_texts(word_set, train['email'])\n",
    "plot_df = pd.DataFrame(my_list, columns=word_set)\n",
    "#Created a dataframe with the words as columns and 0,1 as the values for the columns\n",
    "plot_df['spam'] = train['spam']\n",
    "\n",
    "plot_3_melt = plot_df.melt('spam')\n",
    "\n",
    "plot_3_melt['spam'] = plot_3_melt['spam'].replace({0:'ham', 1:'spam'})\n",
    "plot_3_melt['count'] = [1 for x in plot_3_melt['variable']]\n",
    "plot_3 = plot_3_melt.groupby(['variable', 'spam']).agg(sum)\n",
    "\n",
    "\n",
    "plot_3['proportion'] = plot_3['value'] / plot_3['count']\n",
    "plot_3 = plot_3.reset_index()\n",
    "plot_3 = plot_3.rename(columns={'variable': 'Words', 'proportion': 'Proportion of Emails'})\n",
    "\n",
    "plt.figure(figsize=(10, 10))\n",
    "plt.title('Frequency of Words in Spam/Ham Emails')\n",
    "sns.barplot(data=plot_3, x='Words', y='Proportion of Emails', hue='spam');"
   ]
  },
  {
   "cell_type": "markdown",
   "id": "918f46b5",
   "metadata": {},
   "source": [
    "## Classification"
   ]
  },
  {
   "cell_type": "code",
   "execution_count": 25,
   "id": "9d750175",
   "metadata": {},
   "outputs": [
    {
     "name": "stdout",
     "output_type": "stream",
     "text": [
      "Training Accuracy:  0.7580904702306455\n"
     ]
    }
   ],
   "source": [
    "from sklearn.linear_model import LogisticRegression\n",
    "\n",
    "some_words = ['drug', 'bank', 'prescription', 'memo', 'private']\n",
    "\n",
    "X_train = words_in_texts(some_words, train['email'])\n",
    "Y_train = train['spam']\n",
    "\n",
    "model = LogisticRegression()\n",
    "model.fit(X_train, Y_train)\n",
    "\n",
    "training_accuracy = model.score(X_train, Y_train)\n",
    "print(\"Training Accuracy: \", training_accuracy)"
   ]
  },
  {
   "cell_type": "markdown",
   "id": "1806b636",
   "metadata": {},
   "source": [
    "This looks good! However we must remember that accuracy isn't the only important thing here. We must consider the model's precision and recall. \n",
    "\n",
    "Presumably, our classifier will be used for **filtering**, i.e. preventing messages labeled `spam` from reaching someone's inbox. There are two kinds of errors we can make:\n",
    "- False positive (FP): a ham email gets flagged as spam and filtered out of the inbox.\n",
    "- False negative (FN): a spam email gets mislabeled as ham and ends up in the inbox.\n",
    "\n",
    "To be clear, we label spam emails as 1 and ham emails as 0. These definitions depend both on the true labels and the predicted labels. False positives and false negatives may be of differing importance, leading us to consider more ways of evaluating a classifier, in addition to overall accuracy:\n",
    "\n",
    "**Precision** measures the proportion $\\frac{\\text{TP}}{\\text{TP} + \\text{FP}}$ of emails flagged as spam that are actually spam.\n",
    "\n",
    "**Recall** measures the proportion $\\frac{\\text{TP}}{\\text{TP} + \\text{FN}}$ of spam emails that were correctly flagged as spam. \n",
    "\n",
    "**False-alarm rate** measures the proportion $\\frac{\\text{FP}}{\\text{FP} + \\text{TN}}$ of ham emails that were incorrectly flagged as spam. "
   ]
  },
  {
   "cell_type": "code",
   "execution_count": 26,
   "id": "759c0433",
   "metadata": {},
   "outputs": [
    {
     "name": "stdout",
     "output_type": "stream",
     "text": [
      "Out of all the emails flagged as spam, how many are actually spam:  0.6549019607843137\n",
      "Out of all the spam emails, how many were actually flagged as spam:  0.11662011173184357\n",
      "Out of all the ham emails, how many were incorrectly flagged as spam :  0.02114876231675078\n"
     ]
    }
   ],
   "source": [
    "y_pred = model.predict(X_train)\n",
    "tp = np.sum((y_pred == 1) & (Y_train == 1))\n",
    "tn = np.sum((y_pred == 0) & (Y_train == 0))\n",
    "fp = np.sum((y_pred == 1) & (Y_train == 0))\n",
    "fn = np.sum((y_pred == 0) & (Y_train == 1))\n",
    "\n",
    "first_model_precision = tp/(tp+fp)\n",
    "first_model_recall = tp/(tp+fn)\n",
    "first_model_far = fp/(fp+tn)\n",
    "\n",
    "print(\"Out of all the emails flagged as spam, how many are actually spam: \", first_model_precision)\n",
    "print(\"Out of all the spam emails, how many were actually flagged as spam: \", first_model_recall)\n",
    "print(\"Out of all the ham emails, how many were incorrectly flagged as spam : \", first_model_far)"
   ]
  },
  {
   "cell_type": "markdown",
   "id": "1a435bb2",
   "metadata": {},
   "source": [
    "## Lets improve our model"
   ]
  },
  {
   "cell_type": "markdown",
   "id": "5e150b56",
   "metadata": {},
   "source": [
    "#### Lets start by using regex to find html tags"
   ]
  },
  {
   "cell_type": "code",
   "execution_count": 27,
   "id": "51b4eb5c",
   "metadata": {},
   "outputs": [
    {
     "name": "stdout",
     "output_type": "stream",
     "text": [
      "Proportions of ham emails that have html tags:  0.064647921172795\n",
      "Proportions of spam emails that have html tags:  0.5279329608938548\n"
     ]
    }
   ],
   "source": [
    "import re\n",
    "def find_html_tags(emails):\n",
    "    r=\"<\\/[^>]*>\"\n",
    "    htmls_count = []\n",
    "    for email in emails:\n",
    "        amount = len(re.findall(r, email))\n",
    "        if amount == 0:\n",
    "            htmls_count.append(0)\n",
    "        else:\n",
    "            htmls_count.append(1)\n",
    "    htmls_count = np.array(htmls_count)\n",
    "    return htmls_count\n",
    "\n",
    "htmls_count = find_html_tags(train['email'])\n",
    "regex_parameter = pd.DataFrame({'HTML Tag Amount': htmls_count})\n",
    "regex_parameter['spam'] = train['spam']\n",
    "\n",
    "amount_html_tags_ham = sum(regex_parameter[regex_parameter['spam']==0]['HTML Tag Amount'])\n",
    "amount_html_tag_spam = sum(regex_parameter[regex_parameter['spam']==1]['HTML Tag Amount'])\n",
    "\n",
    "ham_count = len(regex_parameter[regex_parameter['spam']==0])\n",
    "spam_count = len(regex_parameter[regex_parameter['spam']==1])\n",
    "\n",
    "tags_in_ham = amount_html_tags_ham/ham_count\n",
    "tags_in_spam = amount_html_tag_spam/spam_count\n",
    "\n",
    "\n",
    "print(\"Proportions of ham emails that have html tags: \", tags_in_ham)\n",
    "print(\"Proportions of spam emails that have html tags: \", tags_in_spam)"
   ]
  },
  {
   "cell_type": "markdown",
   "id": "9dc852c9",
   "metadata": {},
   "source": [
    "#### Lets Now look if we have two exclamation marks '!!' to see if they are as good as html parameters"
   ]
  },
  {
   "cell_type": "code",
   "execution_count": 38,
   "id": "736e40b1",
   "metadata": {},
   "outputs": [
    {
     "name": "stdout",
     "output_type": "stream",
     "text": [
      "Proportions of ham emails that have exclamation marks:  0.016342225426580148\n",
      "Proportions of spam emails that have exclamation marks:  0.21368715083798884\n"
     ]
    }
   ],
   "source": [
    "def find_exclamations(emails):\n",
    "    exclamation_count = []\n",
    "    for email in emails:\n",
    "        has_exclamation = '!!' in email\n",
    "        if has_exclamation == 0:\n",
    "            exclamation_count.append(0)\n",
    "        else:\n",
    "            exclamation_count.append(1)\n",
    "    exclamation_count = np.array(exclamation_count)\n",
    "    return exclamation_count\n",
    "\n",
    "exclamation_count = find_exclamations(train['email'])\n",
    "exclamation_parameter = pd.DataFrame({'Contains !': exclamation_count})\n",
    "exclamation_parameter['spam'] = train['spam']\n",
    "\n",
    "amount_has_exclamation_ham = sum(exclamation_parameter[exclamation_parameter['spam']==0]['Contains !'])\n",
    "amount_has_exclamation_spam = sum(exclamation_parameter[exclamation_parameter['spam']==1]['Contains !'])\n",
    "\n",
    "exclamations_in_ham = amount_has_exclamation_ham / ham_count\n",
    "exclamations_in_spam = amount_has_exclamation_spam / spam_count\n",
    "\n",
    "print(\"Proportions of ham emails that have exclamation marks: \", exclamations_in_ham)\n",
    "print(\"Proportions of spam emails that have exclamation marks: \", exclamations_in_spam)"
   ]
  },
  {
   "cell_type": "markdown",
   "id": "ffc1f0a5",
   "metadata": {},
   "source": [
    "#### Now lets take a look at whether or not an email is a reply"
   ]
  },
  {
   "cell_type": "code",
   "execution_count": 39,
   "id": "b19b4f91",
   "metadata": {},
   "outputs": [
    {
     "name": "stdout",
     "output_type": "stream",
     "text": [
      "Proportions of ham emails that are replies:  0.5027637587118481\n",
      "Proportions of spam emails that are replies:  0.0467877094972067\n"
     ]
    }
   ],
   "source": [
    "def is_reply(subjects):\n",
    "    reply_list = []\n",
    "    for subject in subjects:\n",
    "        if type(subject) == str:\n",
    "            has_Re = 're:' in subject.lower()\n",
    "            if has_Re == 0:\n",
    "                reply_list.append(0)\n",
    "            else:\n",
    "                reply_list.append(1)\n",
    "        else:\n",
    "            reply_list.append(0)\n",
    "    reply_list = np.array(reply_list)\n",
    "    return reply_list\n",
    "\n",
    "reply_list = is_reply(train['subject'])\n",
    "reply_parameter = pd.DataFrame({'Contains Re': reply_list})\n",
    "reply_parameter['spam'] = train['spam']\n",
    "\n",
    "amount_has_Re_ham = sum(reply_parameter[reply_parameter['spam']==0]['Contains Re'])\n",
    "amount_has_Re_spam = sum(reply_parameter[reply_parameter['spam']==1]['Contains Re'])\n",
    "\n",
    "Re_in_ham = amount_has_Re_ham / ham_count\n",
    "Re_in_spam = amount_has_Re_spam / spam_count\n",
    "\n",
    "print(\"Proportions of ham emails that are replies: \", Re_in_ham)\n",
    "print(\"Proportions of spam emails that are replies: \", Re_in_spam)"
   ]
  },
  {
   "cell_type": "markdown",
   "id": "88fd302f",
   "metadata": {},
   "source": [
    "#### Lets look at less than 500 words parameter "
   ]
  },
  {
   "cell_type": "code",
   "execution_count": 40,
   "id": "d0c12146",
   "metadata": {},
   "outputs": [],
   "source": [
    "def is_less_than_500(emails):\n",
    "    less_than_500_list = []\n",
    "    for email in emails:\n",
    "        less_than = len(email) < 500\n",
    "        if less_than == 0:\n",
    "            less_than_500_list.append(0)\n",
    "        else:\n",
    "            less_than_500_list.append(1)\n",
    "    less_than_500_list = np.array(less_than_500_list)\n",
    "    return less_than_500_list\n",
    "\n",
    "less_than_500_list = is_less_than_500(train['email'])\n",
    "\n",
    "caps_parameter = pd.DataFrame({'<500': less_than_500_list})\n",
    "caps_parameter['spam'] = train['spam']\n",
    "\n",
    "less_than_ham = sum(caps_parameter[caps_parameter['spam']==0]['<500'])\n",
    "less_than_spam = sum(caps_parameter[caps_parameter['spam']==1]['<500'])\n",
    "\n",
    "less_prop_ham = less_than_ham / ham_count\n",
    "less_prop_spam = less_than_spam / spam_count\n",
    "\n",
    "print(\"Proportions of ham emails that have less than 500 words: \", less_prop_ham)\n",
    "print(\"Proportions of spam emails that have less than 500 words: \", less_prop_spam)"
   ]
  },
  {
   "cell_type": "markdown",
   "id": "58fdb400",
   "metadata": {},
   "source": [
    "#### Lets look at more than 4100 words parameter "
   ]
  },
  {
   "cell_type": "code",
   "execution_count": 18,
   "id": "d555f842",
   "metadata": {},
   "outputs": [
    {
     "name": "stdout",
     "output_type": "stream",
     "text": [
      "Proportions of ham emails that have more than 4100 words:  0.11151165585195866\n",
      "Proportions of spam emails that have more than 4100 words:  0.36731843575418993\n"
     ]
    }
   ],
   "source": [
    "def is_more_than_4100(emails):\n",
    "    more_than_4100_list = []\n",
    "    for email in emails:\n",
    "        more_than = len(email) > 4100\n",
    "        if more_than == 0:\n",
    "            more_than_4100_list.append(0)\n",
    "        else:\n",
    "            more_than_4100_list.append(1)\n",
    "    more_than_4100_list = np.array(more_than_4100_list)\n",
    "    return more_than_4100_list\n",
    "\n",
    "more_than_4100_list = is_more_than_4100(train['email'])\n",
    "\n",
    "more_than_parameter = pd.DataFrame({'>4100': more_than_4100_list})\n",
    "more_than_parameter['spam'] = train['spam']\n",
    "\n",
    "more_than_ham = sum(more_than_parameter[more_than_parameter['spam']==0]['>4100'])\n",
    "more_than_spam = sum(more_than_parameter[more_than_parameter['spam']==1]['>4100'])\n",
    "\n",
    "more_prop_ham = more_than_ham / ham_count\n",
    "more_prop_spam = more_than_spam / spam_count\n",
    "\n",
    "print(\"Proportions of ham emails that have more than 4100 words: \", more_prop_ham)\n",
    "print(\"Proportions of spam emails that have more than 4100 words: \", more_prop_spam)"
   ]
  },
  {
   "cell_type": "markdown",
   "id": "35c5fe51",
   "metadata": {},
   "source": [
    "#### Lets make a function for single words"
   ]
  },
  {
   "cell_type": "code",
   "execution_count": 35,
   "id": "0dad317f",
   "metadata": {},
   "outputs": [],
   "source": [
    "def find_percent(emails, word):\n",
    "    percent_count = []\n",
    "    for email in emails:\n",
    "        has_percent = email.count(word)\n",
    "        percent_count.append(has_percent)\n",
    "    percent_count = np.array(percent_count)\n",
    "    return percent_count"
   ]
  },
  {
   "cell_type": "markdown",
   "id": "a28c3476",
   "metadata": {},
   "source": [
    "#### Function for size of email"
   ]
  },
  {
   "cell_type": "code",
   "execution_count": 256,
   "id": "0c7369a2",
   "metadata": {},
   "outputs": [
    {
     "data": {
      "text/plain": [
       "array([2, 1])"
      ]
     },
     "execution_count": 256,
     "metadata": {},
     "output_type": "execute_result"
    }
   ],
   "source": [
    "def num_of_nums(emails):\n",
    "    size_for_each_email = []\n",
    "    for email in emails:\n",
    "        size = len(re.findall(r'\\d', email))\n",
    "        size_for_each_email.append(size)\n",
    "    size_for_each_email = np.array(size_for_each_email)\n",
    "    return size_for_each_email\n",
    "num_of_nums(['hello me nam is 8 and9', 'hi is 9 here'])"
   ]
  },
  {
   "cell_type": "code",
   "execution_count": 257,
   "id": "467cfabe",
   "metadata": {},
   "outputs": [],
   "source": [
    "def standerdize(arr):\n",
    "    new_arr = (arr-np.mean(arr))/np.std(arr)\n",
    "    return new_arr\n",
    "#Doesn't affect logistic regression"
   ]
  },
  {
   "cell_type": "markdown",
   "id": "9ca6817b",
   "metadata": {},
   "source": [
    "#### Lets create a Function that gives us the matrix"
   ]
  },
  {
   "cell_type": "code",
   "execution_count": 286,
   "id": "caf12264",
   "metadata": {},
   "outputs": [],
   "source": [
    "def create_matrix(emails, subjects):\n",
    "    reply_list = is_reply(subjects)\n",
    "    exclamation_count = find_exclamations(emails)\n",
    "    htmls_count = find_html_tags(emails)\n",
    "    more_than_4100_list = is_more_than_4100(emails)\n",
    "    less_than_500_list = is_less_than_500(emails)\n",
    "    guarantee_count = find_percent(emails, 'guarantee')\n",
    "    order_count = find_percent(emails, 'order')\n",
    "    email_count = find_percent(emails, 'email')\n",
    "    char_count = find_percent(emails, '?')\n",
    "    dear_count = find_percent(emails, 'dear')\n",
    "    greatings_count = find_percent(emails, 'date')\n",
    "    copright = find_percent(emails, 'like')\n",
    "    nums = num_of_nums(emails)\n",
    "#     perameters = pd.DataFrame({'HTML Tag Amount': word_count})\n",
    "    perameters = pd.DataFrame({'HTML Tag Amount': htmls_count, '2nd':char_count, '3rd':exclamation_count, '4th':reply_list, '5th':guarantee_count, '6th':dear_count, '7th':greatings_count, '8th':nums, '9th':order_count})\n",
    "    return perameters.to_numpy()"
   ]
  },
  {
   "cell_type": "markdown",
   "id": "3905abd7",
   "metadata": {},
   "source": [
    "#### Lets now create the Data Frame and X matrix and take a look at Training Accuracy"
   ]
  },
  {
   "cell_type": "code",
   "execution_count": 287,
   "id": "1077fce8",
   "metadata": {},
   "outputs": [
    {
     "name": "stdout",
     "output_type": "stream",
     "text": [
      "My Training Accuracy:  0.906669050598963\n"
     ]
    }
   ],
   "source": [
    "X_matrix = create_matrix(train['email'], train['subject'])\n",
    "Y_answers = np.array(train['spam'])\n",
    "# X_matrix, Y_answers\n",
    "\n",
    "my_model = LogisticRegression(penalty='l2', solver='newton-cg')\n",
    "my_model.fit(X_matrix, Y_answers)\n",
    "\n",
    "my_training_accuracy = my_model.score(X_matrix, Y_answers)\n",
    "print(\"My Training Accuracy: \", my_training_accuracy)"
   ]
  },
  {
   "cell_type": "markdown",
   "id": "678c40f7",
   "metadata": {},
   "source": [
    "#### Let's now look at the precision, recall, and False-alarm rate of our improved model"
   ]
  },
  {
   "cell_type": "code",
   "execution_count": 288,
   "id": "65434857",
   "metadata": {},
   "outputs": [
    {
     "name": "stdout",
     "output_type": "stream",
     "text": [
      "Out of all the emails flagged as spam, how many are actually spam:  0.9212962962962963\n",
      "Out of all the spam emails, how many were actually flagged as spam:  0.6948324022346368\n",
      "Out of all the ham emails, how many were incorrectly flagged as spam :  0.020427781783225185\n"
     ]
    }
   ],
   "source": [
    "y_pred2 = my_model.predict(X_matrix)\n",
    "tp2 = np.sum((y_pred2 == 1) & (Y_answers == 1))\n",
    "tn2 = np.sum((y_pred2 == 0) & (Y_answers == 0))\n",
    "fp2 = np.sum((y_pred2 == 1) & (Y_answers == 0))\n",
    "fn2 = np.sum((y_pred2 == 0) & (Y_answers == 1))\n",
    "\n",
    "second_model_precision = tp2/(tp2+fp2)\n",
    "second_model_recall = tp2/(tp2+fn2)\n",
    "second_model_far = fp2/(fp2+tn2)\n",
    "\n",
    "print(\"Out of all the emails flagged as spam, how many are actually spam: \", second_model_precision)\n",
    "print(\"Out of all the spam emails, how many were actually flagged as spam: \", second_model_recall)\n",
    "print(\"Out of all the ham emails, how many were incorrectly flagged as spam : \", second_model_far)"
   ]
  },
  {
   "cell_type": "markdown",
   "id": "48203180",
   "metadata": {},
   "source": [
    "As seen our model improved much more in all aspects!"
   ]
  },
  {
   "cell_type": "markdown",
   "id": "c3b895e1",
   "metadata": {},
   "source": [
    "#### Lets Take a look at Test Accuracy"
   ]
  },
  {
   "cell_type": "code",
   "execution_count": 128,
   "id": "a9d1a20c",
   "metadata": {},
   "outputs": [
    {
     "name": "stdout",
     "output_type": "stream",
     "text": [
      "My Test Accuracy:  0.9016333938294011\n"
     ]
    }
   ],
   "source": [
    "Test_matrix = create_matrix(test['email'], test['subject'])\n",
    "Test_answers = np.array(test['spam'])\n",
    "\n",
    "my_test_accuracy = my_model.score(Test_matrix, Test_answers)\n",
    "print(\"My Test Accuracy: \", my_test_accuracy)"
   ]
  },
  {
   "cell_type": "markdown",
   "id": "0a0fc904",
   "metadata": {},
   "source": [
    "# Some EDA Performed Previously"
   ]
  },
  {
   "cell_type": "code",
   "execution_count": 25,
   "id": "5b28aab9",
   "metadata": {},
   "outputs": [
    {
     "data": {
      "text/html": [
       "<div>\n",
       "<style scoped>\n",
       "    .dataframe tbody tr th:only-of-type {\n",
       "        vertical-align: middle;\n",
       "    }\n",
       "\n",
       "    .dataframe tbody tr th {\n",
       "        vertical-align: top;\n",
       "    }\n",
       "\n",
       "    .dataframe thead th {\n",
       "        text-align: right;\n",
       "    }\n",
       "</style>\n",
       "<table border=\"1\" class=\"dataframe\">\n",
       "  <thead>\n",
       "    <tr style=\"text-align: right;\">\n",
       "      <th></th>\n",
       "      <th>Body</th>\n",
       "      <th>Html</th>\n",
       "      <th>Tags</th>\n",
       "      <th>Ending Tags</th>\n",
       "    </tr>\n",
       "  </thead>\n",
       "  <tbody>\n",
       "    <tr>\n",
       "      <th>Body</th>\n",
       "      <td>1.000000</td>\n",
       "      <td>0.518467</td>\n",
       "      <td>0.728277</td>\n",
       "      <td>0.728277</td>\n",
       "    </tr>\n",
       "    <tr>\n",
       "      <th>Html</th>\n",
       "      <td>0.518467</td>\n",
       "      <td>1.000000</td>\n",
       "      <td>0.625947</td>\n",
       "      <td>0.625947</td>\n",
       "    </tr>\n",
       "    <tr>\n",
       "      <th>Tags</th>\n",
       "      <td>0.728277</td>\n",
       "      <td>0.625947</td>\n",
       "      <td>1.000000</td>\n",
       "      <td>1.000000</td>\n",
       "    </tr>\n",
       "    <tr>\n",
       "      <th>Ending Tags</th>\n",
       "      <td>0.728277</td>\n",
       "      <td>0.625947</td>\n",
       "      <td>1.000000</td>\n",
       "      <td>1.000000</td>\n",
       "    </tr>\n",
       "  </tbody>\n",
       "</table>\n",
       "</div>"
      ],
      "text/plain": [
       "                 Body      Html      Tags  Ending Tags\n",
       "Body         1.000000  0.518467  0.728277     0.728277\n",
       "Html         0.518467  1.000000  0.625947     0.625947\n",
       "Tags         0.728277  0.625947  1.000000     1.000000\n",
       "Ending Tags  0.728277  0.625947  1.000000     1.000000"
      ]
     },
     "execution_count": 25,
     "metadata": {},
     "output_type": "execute_result"
    },
    {
     "data": {
      "image/png": "[encoded data removed]",
      "text/plain": [
       "<Figure size 432x288 with 2 Axes>"
      ]
     },
     "metadata": {},
     "output_type": "display_data"
    }
   ],
   "source": [
    "def find_words(emails, word):\n",
    "    word_count = []\n",
    "    for email in emails:\n",
    "        has_percent = word in email\n",
    "        if (has_percent):\n",
    "            word_count.append(1)\n",
    "        else:\n",
    "            word_count.append(0)\n",
    "    word_count = np.array(word_count)\n",
    "    return word_count\n",
    "\n",
    "emails = train['email']\n",
    "body_count = find_words(emails, 'body')\n",
    "html_count = find_words(emails, 'html')\n",
    "tag_count = find_words(emails, '</')\n",
    "html_tags_count = find_html_tags(emails)\n",
    "plot2 = pd.DataFrame({'Body':body_count, 'Html':html_count, 'Tags':html_tags_count, 'Ending Tags':tag_count})\n",
    "plot2.head(50)\n",
    "\n",
    "corr=plot2.corr()\n",
    "\n",
    "plot=sns.heatmap(corr, vmin=0, vmax=1, square=True);\n",
    "\n",
    "corr"
   ]
  },
  {
   "cell_type": "markdown",
   "id": "d77e874c",
   "metadata": {},
   "source": [
    "Above I made a heatmap for the correlations between whether or not the strings: 'body', 'html', '</' and the regex expression for tags appeared in emails. As we can see the lighter the color, the higher the correlation. As seen neither of the pairing have a correlation less that 0.5. Meaning these words are highly correlated and co-occur relatively frequently."
   ]
  }
 ],
 "metadata": {
  "kernelspec": {
   "display_name": "Python 3",
   "language": "python",
   "name": "python3"
  },
  "language_info": {
   "codemirror_mode": {
    "name": "ipython",
    "version": 3
   },
   "file_extension": ".py",
   "mimetype": "text/x-python",
   "name": "python",
   "nbconvert_exporter": "python",
   "pygments_lexer": "ipython3",
   "version": "3.8.8"
  }
 },
 "nbformat": 4,
 "nbformat_minor": 5
}
